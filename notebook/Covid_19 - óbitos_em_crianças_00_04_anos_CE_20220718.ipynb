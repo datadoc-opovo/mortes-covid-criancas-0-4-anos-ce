{
 "cells": [
  {
   "cell_type": "markdown",
   "metadata": {
    "id": "blR-XswxcTlT"
   },
   "source": [
    "# Introdução\n",
    "\n",
    "Neste notebook, consta análise feita para a reportagem [Covid-19: Uma criança de 0 a 4 anos de idade morreu por semana no Ceará](https://mais.opovo.com.br/jornal/reportagem/2022/07/07/covid-19-uma-crianca-de-0-a-4-anos-de-idade-morreu-por-semana-no-ceara.html), publicada no [O POVO+](https://mais.opovo.com.br/home) no dia xx de julho de 2022. O material é fruto de uma colaboração entre a Central de Jornalismo de Dados (DATADOC) e o núcleo de Cotidiano do Jornal O POVO. O texto é assinado pelo repórter [Gabriel Borges](https://www.opovo.com.br/noticias/autor/?autor=gabriel-borges).\n",
    "\n",
    "Os dados foram levantados a partir do Boletim Covid-19, disponível no IntegraSUS, plataforma da Secretaria da Saúde do Estado do Ceará (Sesa) no dia 18 de julho de 2022.\n",
    "\n",
    "Inicialmente, foram raspados os dados de óbitos por Covid-19 no Ceará, por faixa etária, desde o início de 2020 até a data da coleta. Em seguida, foram filtrados os óbitos entre crianças de 0 a 2 anos e de 3 a 4 anos de idade.\n",
    "\n",
    "Com esse filtro, foram calculados os óbitos nessas idades por ano (2020, 2021 e 2022 — nesse último caso, até 18 de julho) e no período de 1º de janeiro a 18 de julho de cada um desses anos, além do percentual representado pelas faixas etárias (0 a 2 anos e 3 a 4 anos) nesses óbitos pela doença até o momento da análise.\n",
    "\n",
    "## Índice\n",
    "[Parte 1. Coleta de dados](#parte1)\n",
    "\n",
    "[Parte 2. Análise de dados](#parte2)\n",
    "\n",
    "*   [Contextualizando as mortes de crianças de 0 a 4 anos desde o primeiro óbito por Covid-19 confirmado no Ceará](#contextualizando);\n",
    "*   [Como os óbitos de crianças de 0 a 4 anos comportaram-se por ano, considerando o período total de 2020 a 2022? E comparando o intervalo de 1º de janeiro a 18 de julho para os três anos?](#comportamento);\n",
    "*   [O que cada faixa etária (0 a 2 / 3 a 4) representou, percentualmente, no total de óbitos por Covid-19 entre essas crianças?](#percentual)\n",
    "\n",
    "\n",
    "\n",
    "**EXPEDIENTE**\n",
    "\n",
    "**Edição DATADOC**\n",
    "\n",
    "Thays Lavor\n",
    "\n",
    "**Análise e visualização de dados**\n",
    "\n",
    "Gabriela Custódio"
   ]
  },
  {
   "cell_type": "code",
   "execution_count": 57,
   "metadata": {
    "id": "CAAMG1QxYK4a"
   },
   "outputs": [],
   "source": [
    "import pandas as pd\n",
    "import numpy as np\n",
    "from datetime import datetime"
   ]
  },
  {
   "cell_type": "markdown",
   "metadata": {
    "id": "-p5nBjFHlFcN"
   },
   "source": [
    "# Parte 1. Coleta de dados <a name=\"parte1\"></a>\n",
    "\n",
    "Para refazer a análise com os dados utilizados na matéria, **não executar** este passo"
   ]
  },
  {
   "cell_type": "code",
   "execution_count": null,
   "metadata": {
    "id": "xylZ88ks60bs"
   },
   "outputs": [],
   "source": [
    "#  criando a função consultaIntegra\n",
    "\n",
    "def consultaIntegraObitos(data):\n",
    "  url = 'https://integrasus.saude.ce.gov.br/api/coronavirus/qtd-por-faixa-etaria?dataInicio=2020-01-01&dataFim={}&minDate=2020-01-01&maxDate=2022-07-10&tipo=%C3%93bitos&idMunicipio=&idRegiaoSaude=&idMacrorregiao=&casosHospitalizados=false&casosProfissionais=false&casosIndigenas=false&casosEstudante=false'.format(data)\n",
    "  df = pd.read_json(url)\n",
    "  df['data'] = data\n",
    "  return df;"
   ]
  },
  {
   "cell_type": "code",
   "execution_count": null,
   "metadata": {
    "colab": {
     "base_uri": "https://localhost:8080/"
    },
    "id": "Q-8ozGfwFnTl",
    "outputId": "80090be7-1c87-41f0-c269-71c70173ca33"
   },
   "outputs": [
    {
     "name": "stdout",
     "output_type": "stream",
     "text": [
      "2022-07-19 02:12:32.115915\n",
      "Número de dias: 931\n"
     ]
    }
   ],
   "source": [
    "# criando série com dias entre duas datas\n",
    "\n",
    "pdRange = pd.date_range(start=pd.to_datetime('2020-01-01'), end=datetime.today()).to_series()\n",
    "print(datetime.today())\n",
    "print(f'Número de dias: {pdRange.shape[0]}')"
   ]
  },
  {
   "cell_type": "code",
   "execution_count": null,
   "metadata": {
    "id": "FwsxaQb37IYl"
   },
   "outputs": [],
   "source": [
    "# fazendo uma consulta para cada data e concatenando tudo em um único dataset;\n",
    "\n",
    "dados_obitos = pd.concat([consultaIntegraObitos(x.strftime(\"%Y-%m-%d\")) for x,y in pdRange.iteritems()], ignore_index=True)"
   ]
  },
  {
   "cell_type": "code",
   "execution_count": null,
   "metadata": {
    "colab": {
     "base_uri": "https://localhost:8080/"
    },
    "id": "rGE2wU2B1cWb",
    "outputId": "a8bf1b94-3e9d-40a4-a29b-46c6fcead107"
   },
   "outputs": [
    {
     "name": "stdout",
     "output_type": "stream",
     "text": [
      "Última Atualização 18/07/2022 08:29:46\n"
     ]
    }
   ],
   "source": [
    "print('Última Atualização 18/07/2022 08:29:46')"
   ]
  },
  {
   "cell_type": "code",
   "execution_count": null,
   "metadata": {
    "id": "vbMe6fsx7Ia1"
   },
   "outputs": [],
   "source": [
    "dados_obitos.to_csv('20220718_df_obitos_por_idade.csv', index=False)"
   ]
  },
  {
   "cell_type": "markdown",
   "metadata": {
    "id": "gv-ZciUYlH2e"
   },
   "source": [
    "# Parte 2. Análise de dados <a name=\"parte2\"></a>\n",
    "\n",
    "Para reproduzir a análise da reportagem, executar **a partir daqui**"
   ]
  },
  {
   "cell_type": "code",
   "execution_count": 58,
   "metadata": {
    "id": "4arQ99SwC_Qj"
   },
   "outputs": [],
   "source": [
    "obitos_idade = 'arquivos_gerados/20220718_df_obitos_por_idade.csv'\n",
    "df_obitos_idade = pd.read_csv(obitos_idade)"
   ]
  },
  {
   "cell_type": "code",
   "execution_count": 59,
   "metadata": {
    "id": "hml810P1yiSj"
   },
   "outputs": [],
   "source": [
    "df_obitos_faixaEtaria = df_obitos_idade[['data', 'faixaEtaria', 'quantidade']]"
   ]
  },
  {
   "cell_type": "code",
   "execution_count": 60,
   "metadata": {
    "colab": {
     "base_uri": "https://localhost:8080/",
     "height": 423
    },
    "id": "nGyGQyBPM6jt",
    "outputId": "83bef238-24b2-491d-f6bd-77dcc024197d"
   },
   "outputs": [
    {
     "data": {
      "text/html": [
       "<div>\n",
       "<style scoped>\n",
       "    .dataframe tbody tr th:only-of-type {\n",
       "        vertical-align: middle;\n",
       "    }\n",
       "\n",
       "    .dataframe tbody tr th {\n",
       "        vertical-align: top;\n",
       "    }\n",
       "\n",
       "    .dataframe thead th {\n",
       "        text-align: right;\n",
       "    }\n",
       "</style>\n",
       "<table border=\"1\" class=\"dataframe\">\n",
       "  <thead>\n",
       "    <tr style=\"text-align: right;\">\n",
       "      <th></th>\n",
       "      <th>data</th>\n",
       "      <th>faixaEtaria</th>\n",
       "      <th>quantidade</th>\n",
       "    </tr>\n",
       "  </thead>\n",
       "  <tbody>\n",
       "    <tr>\n",
       "      <th>0</th>\n",
       "      <td>2020-01-01</td>\n",
       "      <td>00-02</td>\n",
       "      <td>0</td>\n",
       "    </tr>\n",
       "    <tr>\n",
       "      <th>1</th>\n",
       "      <td>2020-01-01</td>\n",
       "      <td>03-04</td>\n",
       "      <td>0</td>\n",
       "    </tr>\n",
       "    <tr>\n",
       "      <th>2</th>\n",
       "      <td>2020-01-01</td>\n",
       "      <td>05-11</td>\n",
       "      <td>0</td>\n",
       "    </tr>\n",
       "    <tr>\n",
       "      <th>3</th>\n",
       "      <td>2020-01-01</td>\n",
       "      <td>12-17</td>\n",
       "      <td>0</td>\n",
       "    </tr>\n",
       "    <tr>\n",
       "      <th>4</th>\n",
       "      <td>2020-01-01</td>\n",
       "      <td>18-30</td>\n",
       "      <td>0</td>\n",
       "    </tr>\n",
       "    <tr>\n",
       "      <th>...</th>\n",
       "      <td>...</td>\n",
       "      <td>...</td>\n",
       "      <td>...</td>\n",
       "    </tr>\n",
       "    <tr>\n",
       "      <th>11904</th>\n",
       "      <td>2022-07-19</td>\n",
       "      <td>61-70</td>\n",
       "      <td>5403</td>\n",
       "    </tr>\n",
       "    <tr>\n",
       "      <th>11905</th>\n",
       "      <td>2022-07-19</td>\n",
       "      <td>71-79</td>\n",
       "      <td>5957</td>\n",
       "    </tr>\n",
       "    <tr>\n",
       "      <th>11906</th>\n",
       "      <td>2022-07-19</td>\n",
       "      <td>80 ou mais</td>\n",
       "      <td>7878</td>\n",
       "    </tr>\n",
       "    <tr>\n",
       "      <th>11907</th>\n",
       "      <td>2022-07-19</td>\n",
       "      <td>Não informado</td>\n",
       "      <td>0</td>\n",
       "    </tr>\n",
       "    <tr>\n",
       "      <th>11908</th>\n",
       "      <td>2022-07-19</td>\n",
       "      <td>Não Informado</td>\n",
       "      <td>135</td>\n",
       "    </tr>\n",
       "  </tbody>\n",
       "</table>\n",
       "<p>11909 rows × 3 columns</p>\n",
       "</div>"
      ],
      "text/plain": [
       "             data    faixaEtaria  quantidade\n",
       "0      2020-01-01          00-02           0\n",
       "1      2020-01-01          03-04           0\n",
       "2      2020-01-01          05-11           0\n",
       "3      2020-01-01          12-17           0\n",
       "4      2020-01-01          18-30           0\n",
       "...           ...            ...         ...\n",
       "11904  2022-07-19          61-70        5403\n",
       "11905  2022-07-19          71-79        5957\n",
       "11906  2022-07-19     80 ou mais        7878\n",
       "11907  2022-07-19  Não informado           0\n",
       "11908  2022-07-19  Não Informado         135\n",
       "\n",
       "[11909 rows x 3 columns]"
      ]
     },
     "execution_count": 60,
     "metadata": {},
     "output_type": "execute_result"
    }
   ],
   "source": [
    "df_obitos_faixaEtaria"
   ]
  },
  {
   "cell_type": "code",
   "execution_count": 61,
   "metadata": {
    "id": "dhaWWWLOiTrc"
   },
   "outputs": [],
   "source": [
    "pivot_obitos = pd.pivot_table(df_obitos_faixaEtaria, index='data', columns='faixaEtaria')\n",
    "pivot_obitos = pivot_obitos.sort_values(by='data')"
   ]
  },
  {
   "cell_type": "code",
   "execution_count": 62,
   "metadata": {
    "colab": {
     "base_uri": "https://localhost:8080/",
     "height": 582
    },
    "id": "bD2cMVRvMcXF",
    "outputId": "0da31d4e-edc6-4038-9d61-2f26d5ae6d85"
   },
   "outputs": [
    {
     "data": {
      "text/html": [
       "<div>\n",
       "<style scoped>\n",
       "    .dataframe tbody tr th:only-of-type {\n",
       "        vertical-align: middle;\n",
       "    }\n",
       "\n",
       "    .dataframe tbody tr th {\n",
       "        vertical-align: top;\n",
       "    }\n",
       "\n",
       "    .dataframe thead tr th {\n",
       "        text-align: left;\n",
       "    }\n",
       "\n",
       "    .dataframe thead tr:last-of-type th {\n",
       "        text-align: right;\n",
       "    }\n",
       "</style>\n",
       "<table border=\"1\" class=\"dataframe\">\n",
       "  <thead>\n",
       "    <tr>\n",
       "      <th></th>\n",
       "      <th colspan=\"13\" halign=\"left\">quantidade</th>\n",
       "    </tr>\n",
       "    <tr>\n",
       "      <th>faixaEtaria</th>\n",
       "      <th>00-02</th>\n",
       "      <th>03-04</th>\n",
       "      <th>05-11</th>\n",
       "      <th>12-17</th>\n",
       "      <th>18-30</th>\n",
       "      <th>31-40</th>\n",
       "      <th>41-50</th>\n",
       "      <th>51-60</th>\n",
       "      <th>61-70</th>\n",
       "      <th>71-79</th>\n",
       "      <th>80 ou mais</th>\n",
       "      <th>Não Informado</th>\n",
       "      <th>Não informado</th>\n",
       "    </tr>\n",
       "    <tr>\n",
       "      <th>data</th>\n",
       "      <th></th>\n",
       "      <th></th>\n",
       "      <th></th>\n",
       "      <th></th>\n",
       "      <th></th>\n",
       "      <th></th>\n",
       "      <th></th>\n",
       "      <th></th>\n",
       "      <th></th>\n",
       "      <th></th>\n",
       "      <th></th>\n",
       "      <th></th>\n",
       "      <th></th>\n",
       "    </tr>\n",
       "  </thead>\n",
       "  <tbody>\n",
       "    <tr>\n",
       "      <th>2020-01-01</th>\n",
       "      <td>0.0</td>\n",
       "      <td>0.0</td>\n",
       "      <td>0.0</td>\n",
       "      <td>0.0</td>\n",
       "      <td>0.0</td>\n",
       "      <td>0.0</td>\n",
       "      <td>0.0</td>\n",
       "      <td>0.0</td>\n",
       "      <td>0.0</td>\n",
       "      <td>0.0</td>\n",
       "      <td>0.0</td>\n",
       "      <td>NaN</td>\n",
       "      <td>NaN</td>\n",
       "    </tr>\n",
       "    <tr>\n",
       "      <th>2020-01-02</th>\n",
       "      <td>0.0</td>\n",
       "      <td>0.0</td>\n",
       "      <td>0.0</td>\n",
       "      <td>0.0</td>\n",
       "      <td>0.0</td>\n",
       "      <td>0.0</td>\n",
       "      <td>0.0</td>\n",
       "      <td>0.0</td>\n",
       "      <td>0.0</td>\n",
       "      <td>0.0</td>\n",
       "      <td>0.0</td>\n",
       "      <td>NaN</td>\n",
       "      <td>NaN</td>\n",
       "    </tr>\n",
       "    <tr>\n",
       "      <th>2020-01-03</th>\n",
       "      <td>0.0</td>\n",
       "      <td>0.0</td>\n",
       "      <td>0.0</td>\n",
       "      <td>0.0</td>\n",
       "      <td>0.0</td>\n",
       "      <td>0.0</td>\n",
       "      <td>0.0</td>\n",
       "      <td>0.0</td>\n",
       "      <td>0.0</td>\n",
       "      <td>0.0</td>\n",
       "      <td>0.0</td>\n",
       "      <td>NaN</td>\n",
       "      <td>NaN</td>\n",
       "    </tr>\n",
       "    <tr>\n",
       "      <th>2020-01-04</th>\n",
       "      <td>0.0</td>\n",
       "      <td>0.0</td>\n",
       "      <td>0.0</td>\n",
       "      <td>0.0</td>\n",
       "      <td>0.0</td>\n",
       "      <td>0.0</td>\n",
       "      <td>0.0</td>\n",
       "      <td>0.0</td>\n",
       "      <td>0.0</td>\n",
       "      <td>0.0</td>\n",
       "      <td>0.0</td>\n",
       "      <td>NaN</td>\n",
       "      <td>NaN</td>\n",
       "    </tr>\n",
       "    <tr>\n",
       "      <th>2020-01-05</th>\n",
       "      <td>0.0</td>\n",
       "      <td>0.0</td>\n",
       "      <td>0.0</td>\n",
       "      <td>0.0</td>\n",
       "      <td>0.0</td>\n",
       "      <td>0.0</td>\n",
       "      <td>0.0</td>\n",
       "      <td>0.0</td>\n",
       "      <td>0.0</td>\n",
       "      <td>0.0</td>\n",
       "      <td>0.0</td>\n",
       "      <td>NaN</td>\n",
       "      <td>NaN</td>\n",
       "    </tr>\n",
       "    <tr>\n",
       "      <th>2020-01-06</th>\n",
       "      <td>0.0</td>\n",
       "      <td>0.0</td>\n",
       "      <td>0.0</td>\n",
       "      <td>0.0</td>\n",
       "      <td>0.0</td>\n",
       "      <td>0.0</td>\n",
       "      <td>0.0</td>\n",
       "      <td>0.0</td>\n",
       "      <td>0.0</td>\n",
       "      <td>0.0</td>\n",
       "      <td>0.0</td>\n",
       "      <td>NaN</td>\n",
       "      <td>NaN</td>\n",
       "    </tr>\n",
       "    <tr>\n",
       "      <th>2020-01-07</th>\n",
       "      <td>0.0</td>\n",
       "      <td>0.0</td>\n",
       "      <td>0.0</td>\n",
       "      <td>0.0</td>\n",
       "      <td>0.0</td>\n",
       "      <td>0.0</td>\n",
       "      <td>0.0</td>\n",
       "      <td>0.0</td>\n",
       "      <td>0.0</td>\n",
       "      <td>0.0</td>\n",
       "      <td>0.0</td>\n",
       "      <td>NaN</td>\n",
       "      <td>NaN</td>\n",
       "    </tr>\n",
       "    <tr>\n",
       "      <th>2020-01-08</th>\n",
       "      <td>0.0</td>\n",
       "      <td>0.0</td>\n",
       "      <td>0.0</td>\n",
       "      <td>0.0</td>\n",
       "      <td>0.0</td>\n",
       "      <td>0.0</td>\n",
       "      <td>0.0</td>\n",
       "      <td>0.0</td>\n",
       "      <td>0.0</td>\n",
       "      <td>0.0</td>\n",
       "      <td>0.0</td>\n",
       "      <td>NaN</td>\n",
       "      <td>NaN</td>\n",
       "    </tr>\n",
       "    <tr>\n",
       "      <th>2020-01-09</th>\n",
       "      <td>0.0</td>\n",
       "      <td>0.0</td>\n",
       "      <td>0.0</td>\n",
       "      <td>0.0</td>\n",
       "      <td>0.0</td>\n",
       "      <td>0.0</td>\n",
       "      <td>0.0</td>\n",
       "      <td>0.0</td>\n",
       "      <td>0.0</td>\n",
       "      <td>0.0</td>\n",
       "      <td>0.0</td>\n",
       "      <td>NaN</td>\n",
       "      <td>NaN</td>\n",
       "    </tr>\n",
       "    <tr>\n",
       "      <th>2020-01-10</th>\n",
       "      <td>0.0</td>\n",
       "      <td>0.0</td>\n",
       "      <td>0.0</td>\n",
       "      <td>0.0</td>\n",
       "      <td>0.0</td>\n",
       "      <td>0.0</td>\n",
       "      <td>0.0</td>\n",
       "      <td>0.0</td>\n",
       "      <td>0.0</td>\n",
       "      <td>0.0</td>\n",
       "      <td>0.0</td>\n",
       "      <td>NaN</td>\n",
       "      <td>NaN</td>\n",
       "    </tr>\n",
       "    <tr>\n",
       "      <th>2020-01-11</th>\n",
       "      <td>0.0</td>\n",
       "      <td>0.0</td>\n",
       "      <td>0.0</td>\n",
       "      <td>0.0</td>\n",
       "      <td>0.0</td>\n",
       "      <td>0.0</td>\n",
       "      <td>0.0</td>\n",
       "      <td>0.0</td>\n",
       "      <td>0.0</td>\n",
       "      <td>0.0</td>\n",
       "      <td>0.0</td>\n",
       "      <td>NaN</td>\n",
       "      <td>NaN</td>\n",
       "    </tr>\n",
       "    <tr>\n",
       "      <th>2020-01-12</th>\n",
       "      <td>0.0</td>\n",
       "      <td>0.0</td>\n",
       "      <td>0.0</td>\n",
       "      <td>0.0</td>\n",
       "      <td>0.0</td>\n",
       "      <td>0.0</td>\n",
       "      <td>0.0</td>\n",
       "      <td>0.0</td>\n",
       "      <td>0.0</td>\n",
       "      <td>0.0</td>\n",
       "      <td>0.0</td>\n",
       "      <td>NaN</td>\n",
       "      <td>NaN</td>\n",
       "    </tr>\n",
       "    <tr>\n",
       "      <th>2020-01-13</th>\n",
       "      <td>0.0</td>\n",
       "      <td>0.0</td>\n",
       "      <td>0.0</td>\n",
       "      <td>0.0</td>\n",
       "      <td>0.0</td>\n",
       "      <td>0.0</td>\n",
       "      <td>0.0</td>\n",
       "      <td>0.0</td>\n",
       "      <td>0.0</td>\n",
       "      <td>0.0</td>\n",
       "      <td>0.0</td>\n",
       "      <td>NaN</td>\n",
       "      <td>NaN</td>\n",
       "    </tr>\n",
       "    <tr>\n",
       "      <th>2020-01-14</th>\n",
       "      <td>0.0</td>\n",
       "      <td>0.0</td>\n",
       "      <td>0.0</td>\n",
       "      <td>0.0</td>\n",
       "      <td>0.0</td>\n",
       "      <td>0.0</td>\n",
       "      <td>0.0</td>\n",
       "      <td>0.0</td>\n",
       "      <td>0.0</td>\n",
       "      <td>0.0</td>\n",
       "      <td>0.0</td>\n",
       "      <td>NaN</td>\n",
       "      <td>NaN</td>\n",
       "    </tr>\n",
       "    <tr>\n",
       "      <th>2020-01-15</th>\n",
       "      <td>0.0</td>\n",
       "      <td>0.0</td>\n",
       "      <td>0.0</td>\n",
       "      <td>0.0</td>\n",
       "      <td>0.0</td>\n",
       "      <td>0.0</td>\n",
       "      <td>0.0</td>\n",
       "      <td>0.0</td>\n",
       "      <td>0.0</td>\n",
       "      <td>0.0</td>\n",
       "      <td>0.0</td>\n",
       "      <td>NaN</td>\n",
       "      <td>NaN</td>\n",
       "    </tr>\n",
       "  </tbody>\n",
       "</table>\n",
       "</div>"
      ],
      "text/plain": [
       "            quantidade                                                        \\\n",
       "faixaEtaria      00-02 03-04 05-11 12-17 18-30 31-40 41-50 51-60 61-70 71-79   \n",
       "data                                                                           \n",
       "2020-01-01         0.0   0.0   0.0   0.0   0.0   0.0   0.0   0.0   0.0   0.0   \n",
       "2020-01-02         0.0   0.0   0.0   0.0   0.0   0.0   0.0   0.0   0.0   0.0   \n",
       "2020-01-03         0.0   0.0   0.0   0.0   0.0   0.0   0.0   0.0   0.0   0.0   \n",
       "2020-01-04         0.0   0.0   0.0   0.0   0.0   0.0   0.0   0.0   0.0   0.0   \n",
       "2020-01-05         0.0   0.0   0.0   0.0   0.0   0.0   0.0   0.0   0.0   0.0   \n",
       "2020-01-06         0.0   0.0   0.0   0.0   0.0   0.0   0.0   0.0   0.0   0.0   \n",
       "2020-01-07         0.0   0.0   0.0   0.0   0.0   0.0   0.0   0.0   0.0   0.0   \n",
       "2020-01-08         0.0   0.0   0.0   0.0   0.0   0.0   0.0   0.0   0.0   0.0   \n",
       "2020-01-09         0.0   0.0   0.0   0.0   0.0   0.0   0.0   0.0   0.0   0.0   \n",
       "2020-01-10         0.0   0.0   0.0   0.0   0.0   0.0   0.0   0.0   0.0   0.0   \n",
       "2020-01-11         0.0   0.0   0.0   0.0   0.0   0.0   0.0   0.0   0.0   0.0   \n",
       "2020-01-12         0.0   0.0   0.0   0.0   0.0   0.0   0.0   0.0   0.0   0.0   \n",
       "2020-01-13         0.0   0.0   0.0   0.0   0.0   0.0   0.0   0.0   0.0   0.0   \n",
       "2020-01-14         0.0   0.0   0.0   0.0   0.0   0.0   0.0   0.0   0.0   0.0   \n",
       "2020-01-15         0.0   0.0   0.0   0.0   0.0   0.0   0.0   0.0   0.0   0.0   \n",
       "\n",
       "                                                    \n",
       "faixaEtaria 80 ou mais Não Informado Não informado  \n",
       "data                                                \n",
       "2020-01-01         0.0           NaN           NaN  \n",
       "2020-01-02         0.0           NaN           NaN  \n",
       "2020-01-03         0.0           NaN           NaN  \n",
       "2020-01-04         0.0           NaN           NaN  \n",
       "2020-01-05         0.0           NaN           NaN  \n",
       "2020-01-06         0.0           NaN           NaN  \n",
       "2020-01-07         0.0           NaN           NaN  \n",
       "2020-01-08         0.0           NaN           NaN  \n",
       "2020-01-09         0.0           NaN           NaN  \n",
       "2020-01-10         0.0           NaN           NaN  \n",
       "2020-01-11         0.0           NaN           NaN  \n",
       "2020-01-12         0.0           NaN           NaN  \n",
       "2020-01-13         0.0           NaN           NaN  \n",
       "2020-01-14         0.0           NaN           NaN  \n",
       "2020-01-15         0.0           NaN           NaN  "
      ]
     },
     "execution_count": 62,
     "metadata": {},
     "output_type": "execute_result"
    }
   ],
   "source": [
    "pivot_obitos.head(15)"
   ]
  },
  {
   "cell_type": "code",
   "execution_count": 63,
   "metadata": {
    "id": "1tcj_NN3vjic"
   },
   "outputs": [],
   "source": [
    "faixa_etaria = df_obitos_idade['faixaEtaria'].drop_duplicates().to_list()\n",
    "\n",
    "lista_df_diff = []\n",
    "for idade in faixa_etaria:\n",
    "  df_diff = pivot_obitos['quantidade'][idade].diff()\n",
    "  lista_df_diff.append(df_diff)\n",
    "\n",
    "df_lista_diff = pd.DataFrame(lista_df_diff).T.reset_index()\n",
    "df_lista_diff.fillna(0.0, inplace=True)"
   ]
  },
  {
   "cell_type": "code",
   "execution_count": 64,
   "metadata": {
    "colab": {
     "base_uri": "https://localhost:8080/",
     "height": 206
    },
    "id": "nwO-Y9eT88w2",
    "outputId": "07c15148-601e-4468-9c40-339d7e724d7c"
   },
   "outputs": [
    {
     "data": {
      "text/html": [
       "<div>\n",
       "<style scoped>\n",
       "    .dataframe tbody tr th:only-of-type {\n",
       "        vertical-align: middle;\n",
       "    }\n",
       "\n",
       "    .dataframe tbody tr th {\n",
       "        vertical-align: top;\n",
       "    }\n",
       "\n",
       "    .dataframe thead th {\n",
       "        text-align: right;\n",
       "    }\n",
       "</style>\n",
       "<table border=\"1\" class=\"dataframe\">\n",
       "  <thead>\n",
       "    <tr style=\"text-align: right;\">\n",
       "      <th></th>\n",
       "      <th>data</th>\n",
       "      <th>00-02</th>\n",
       "      <th>03-04</th>\n",
       "      <th>05-11</th>\n",
       "      <th>12-17</th>\n",
       "      <th>18-30</th>\n",
       "      <th>31-40</th>\n",
       "      <th>41-50</th>\n",
       "      <th>51-60</th>\n",
       "      <th>61-70</th>\n",
       "      <th>71-79</th>\n",
       "      <th>80 ou mais</th>\n",
       "      <th>Não Informado</th>\n",
       "      <th>Não informado</th>\n",
       "    </tr>\n",
       "  </thead>\n",
       "  <tbody>\n",
       "    <tr>\n",
       "      <th>926</th>\n",
       "      <td>2022-07-15</td>\n",
       "      <td>0.0</td>\n",
       "      <td>0.0</td>\n",
       "      <td>0.0</td>\n",
       "      <td>0.0</td>\n",
       "      <td>0.0</td>\n",
       "      <td>0.0</td>\n",
       "      <td>0.0</td>\n",
       "      <td>0.0</td>\n",
       "      <td>0.0</td>\n",
       "      <td>0.0</td>\n",
       "      <td>0.0</td>\n",
       "      <td>0.0</td>\n",
       "      <td>0.0</td>\n",
       "    </tr>\n",
       "    <tr>\n",
       "      <th>927</th>\n",
       "      <td>2022-07-16</td>\n",
       "      <td>0.0</td>\n",
       "      <td>0.0</td>\n",
       "      <td>0.0</td>\n",
       "      <td>0.0</td>\n",
       "      <td>0.0</td>\n",
       "      <td>0.0</td>\n",
       "      <td>0.0</td>\n",
       "      <td>0.0</td>\n",
       "      <td>0.0</td>\n",
       "      <td>0.0</td>\n",
       "      <td>0.0</td>\n",
       "      <td>0.0</td>\n",
       "      <td>0.0</td>\n",
       "    </tr>\n",
       "    <tr>\n",
       "      <th>928</th>\n",
       "      <td>2022-07-17</td>\n",
       "      <td>0.0</td>\n",
       "      <td>0.0</td>\n",
       "      <td>0.0</td>\n",
       "      <td>0.0</td>\n",
       "      <td>0.0</td>\n",
       "      <td>0.0</td>\n",
       "      <td>0.0</td>\n",
       "      <td>0.0</td>\n",
       "      <td>0.0</td>\n",
       "      <td>0.0</td>\n",
       "      <td>0.0</td>\n",
       "      <td>0.0</td>\n",
       "      <td>0.0</td>\n",
       "    </tr>\n",
       "    <tr>\n",
       "      <th>929</th>\n",
       "      <td>2022-07-18</td>\n",
       "      <td>0.0</td>\n",
       "      <td>0.0</td>\n",
       "      <td>0.0</td>\n",
       "      <td>0.0</td>\n",
       "      <td>0.0</td>\n",
       "      <td>0.0</td>\n",
       "      <td>0.0</td>\n",
       "      <td>0.0</td>\n",
       "      <td>0.0</td>\n",
       "      <td>0.0</td>\n",
       "      <td>0.0</td>\n",
       "      <td>0.0</td>\n",
       "      <td>0.0</td>\n",
       "    </tr>\n",
       "    <tr>\n",
       "      <th>930</th>\n",
       "      <td>2022-07-19</td>\n",
       "      <td>0.0</td>\n",
       "      <td>0.0</td>\n",
       "      <td>0.0</td>\n",
       "      <td>0.0</td>\n",
       "      <td>0.0</td>\n",
       "      <td>0.0</td>\n",
       "      <td>0.0</td>\n",
       "      <td>0.0</td>\n",
       "      <td>0.0</td>\n",
       "      <td>0.0</td>\n",
       "      <td>0.0</td>\n",
       "      <td>0.0</td>\n",
       "      <td>0.0</td>\n",
       "    </tr>\n",
       "  </tbody>\n",
       "</table>\n",
       "</div>"
      ],
      "text/plain": [
       "           data  00-02  03-04  05-11  12-17  18-30  31-40  41-50  51-60  \\\n",
       "926  2022-07-15    0.0    0.0    0.0    0.0    0.0    0.0    0.0    0.0   \n",
       "927  2022-07-16    0.0    0.0    0.0    0.0    0.0    0.0    0.0    0.0   \n",
       "928  2022-07-17    0.0    0.0    0.0    0.0    0.0    0.0    0.0    0.0   \n",
       "929  2022-07-18    0.0    0.0    0.0    0.0    0.0    0.0    0.0    0.0   \n",
       "930  2022-07-19    0.0    0.0    0.0    0.0    0.0    0.0    0.0    0.0   \n",
       "\n",
       "     61-70  71-79  80 ou mais  Não Informado  Não informado  \n",
       "926    0.0    0.0         0.0            0.0            0.0  \n",
       "927    0.0    0.0         0.0            0.0            0.0  \n",
       "928    0.0    0.0         0.0            0.0            0.0  \n",
       "929    0.0    0.0         0.0            0.0            0.0  \n",
       "930    0.0    0.0         0.0            0.0            0.0  "
      ]
     },
     "execution_count": 64,
     "metadata": {},
     "output_type": "execute_result"
    }
   ],
   "source": [
    "df_lista_diff.tail()"
   ]
  },
  {
   "cell_type": "code",
   "execution_count": 65,
   "metadata": {
    "id": "vNYbYWfNwx4z"
   },
   "outputs": [],
   "source": [
    "# transformando em formato tidy data\n",
    "\n",
    "df_diff_tidy = pd.melt(df_lista_diff, id_vars=['data']).rename(columns={'variable': 'faixaEtaria', 'value': 'quantidade'})\n",
    "df_diff_tidy['faixaEtaria'] = df_diff_tidy['faixaEtaria'].str.replace('Não informado', 'Não Informado')\n",
    "df_diff_tidy.sort_values(by=['data', 'faixaEtaria'], inplace=True)"
   ]
  },
  {
   "cell_type": "code",
   "execution_count": 66,
   "metadata": {
    "colab": {
     "base_uri": "https://localhost:8080/",
     "height": 206
    },
    "id": "Lk-HCan-JpXe",
    "outputId": "863d0252-77f9-4f52-a0cb-adfc3baa6f3c"
   },
   "outputs": [
    {
     "data": {
      "text/html": [
       "<div>\n",
       "<style scoped>\n",
       "    .dataframe tbody tr th:only-of-type {\n",
       "        vertical-align: middle;\n",
       "    }\n",
       "\n",
       "    .dataframe tbody tr th {\n",
       "        vertical-align: top;\n",
       "    }\n",
       "\n",
       "    .dataframe thead th {\n",
       "        text-align: right;\n",
       "    }\n",
       "</style>\n",
       "<table border=\"1\" class=\"dataframe\">\n",
       "  <thead>\n",
       "    <tr style=\"text-align: right;\">\n",
       "      <th></th>\n",
       "      <th>data</th>\n",
       "      <th>faixaEtaria</th>\n",
       "      <th>quantidade</th>\n",
       "    </tr>\n",
       "  </thead>\n",
       "  <tbody>\n",
       "    <tr>\n",
       "      <th>8378</th>\n",
       "      <td>2022-07-19</td>\n",
       "      <td>61-70</td>\n",
       "      <td>0.0</td>\n",
       "    </tr>\n",
       "    <tr>\n",
       "      <th>9309</th>\n",
       "      <td>2022-07-19</td>\n",
       "      <td>71-79</td>\n",
       "      <td>0.0</td>\n",
       "    </tr>\n",
       "    <tr>\n",
       "      <th>10240</th>\n",
       "      <td>2022-07-19</td>\n",
       "      <td>80 ou mais</td>\n",
       "      <td>0.0</td>\n",
       "    </tr>\n",
       "    <tr>\n",
       "      <th>11171</th>\n",
       "      <td>2022-07-19</td>\n",
       "      <td>Não Informado</td>\n",
       "      <td>0.0</td>\n",
       "    </tr>\n",
       "    <tr>\n",
       "      <th>12102</th>\n",
       "      <td>2022-07-19</td>\n",
       "      <td>Não Informado</td>\n",
       "      <td>0.0</td>\n",
       "    </tr>\n",
       "  </tbody>\n",
       "</table>\n",
       "</div>"
      ],
      "text/plain": [
       "             data    faixaEtaria  quantidade\n",
       "8378   2022-07-19          61-70         0.0\n",
       "9309   2022-07-19          71-79         0.0\n",
       "10240  2022-07-19     80 ou mais         0.0\n",
       "11171  2022-07-19  Não Informado         0.0\n",
       "12102  2022-07-19  Não Informado         0.0"
      ]
     },
     "execution_count": 66,
     "metadata": {},
     "output_type": "execute_result"
    }
   ],
   "source": [
    "df_diff_tidy.tail()"
   ]
  },
  {
   "cell_type": "code",
   "execution_count": 67,
   "metadata": {
    "id": "NMUuriZUJZVk"
   },
   "outputs": [],
   "source": [
    "# criar colunas 'mes/ano', 'ano' e 'acumulado'\n",
    "\n",
    "obitos_00_04 = df_diff_tidy[df_diff_tidy['faixaEtaria'].isin(['00-02', '03-04'])]\n",
    "obitos_00_04 = obitos_00_04.sort_values(by='data')\n",
    "obitos_00_04['mes/ano'] = obitos_00_04['data'].str.slice(start=0, stop=7)\n",
    "obitos_00_04['ano'] = obitos_00_04['data'].str.slice(start=0, stop=4)\n",
    "obitos_00_04['acumulado'] = obitos_00_04['quantidade'].cumsum()"
   ]
  },
  {
   "cell_type": "code",
   "execution_count": 68,
   "metadata": {
    "id": "hMQyGT3frEC-"
   },
   "outputs": [],
   "source": [
    "# arquivo para gráfico de área com óbitos acumulados\n",
    "\n",
    "obitos_00_04.to_csv('arquivos_gerados/20220718_df_obitos_00_04_acumulados_grafico.csv', index=False)"
   ]
  },
  {
   "cell_type": "markdown",
   "metadata": {
    "id": "my-S7LebGvvZ"
   },
   "source": [
    "> **Contextualizando as mortes de crianças de 0 a 4 anos desde o primeiro óbito por Covid-19 confirmado no Ceará:** <a name=\"contextualizando\"></a>"
   ]
  },
  {
   "cell_type": "code",
   "execution_count": 69,
   "metadata": {
    "id": "jg7zzIyaA-_i"
   },
   "outputs": [],
   "source": [
    "obitos_00_04['date'] = pd.to_datetime(obitos_00_04['data'], format = '%Y-%m-%d')\n",
    "obitos_00_04['ano_semana'] = pd.to_datetime(obitos_00_04['data'], format = '%Y-%m-%d').dt.strftime('%Y-%W')"
   ]
  },
  {
   "cell_type": "code",
   "execution_count": 70,
   "metadata": {
    "colab": {
     "base_uri": "https://localhost:8080/"
    },
    "id": "utrFop-qGtqo",
    "outputId": "52391480-4dc4-485c-f1d3-f2cdfe6807a4"
   },
   "outputs": [
    {
     "name": "stdout",
     "output_type": "stream",
     "text": [
      "Total de dias desde o primeiro óbito por Covid-19 no Estado: 845\n"
     ]
    }
   ],
   "source": [
    "# cálculo de data desde 26 de março de 2020\n",
    "\n",
    "primeiro_obito = pd.date_range(start=pd.to_datetime('2020-03-26'), end=pd.to_datetime('2022-07-18')).to_series()\n",
    "print(f'Total de dias desde o primeiro óbito por Covid-19 no Estado: {primeiro_obito.shape[0]}')"
   ]
  },
  {
   "cell_type": "code",
   "execution_count": 71,
   "metadata": {
    "colab": {
     "base_uri": "https://localhost:8080/"
    },
    "id": "5qQGNZTNE4UM",
    "outputId": "00f75bd1-0aa5-436f-aa22-63b361fd9725"
   },
   "outputs": [
    {
     "name": "stdout",
     "output_type": "stream",
     "text": [
      "Total de semanas: 124\n"
     ]
    }
   ],
   "source": [
    "semanas = obitos_00_04[(obitos_00_04['date'] > '2020-03-26') & (obitos_00_04['date'] <= '2022-07-18')]['ano_semana'].nunique()\n",
    "print('Total de semanas:', semanas)"
   ]
  },
  {
   "cell_type": "code",
   "execution_count": 72,
   "metadata": {
    "colab": {
     "base_uri": "https://localhost:8080/"
    },
    "id": "8oh1dirpHmjC",
    "outputId": "92d36f45-64a5-45b9-9ff2-25e50dcac50f"
   },
   "outputs": [
    {
     "name": "stdout",
     "output_type": "stream",
     "text": [
      "Total de óbitos de crianças de 0 a 4 anos por Covid-19 no CE: 151\n"
     ]
    }
   ],
   "source": [
    "total_de_obitos = int(obitos_00_04[obitos_00_04['date'] >= '2020-03-26']['quantidade'].sum())\n",
    "print('Total de óbitos de crianças de 0 a 4 anos por Covid-19 no CE:', total_de_obitos)"
   ]
  },
  {
   "cell_type": "code",
   "execution_count": 73,
   "metadata": {
    "colab": {
     "base_uri": "https://localhost:8080/"
    },
    "id": "MqhaG8HZN7Qx",
    "outputId": "9fb99de2-0981-4de7-f95f-35da27b6c98d"
   },
   "outputs": [
    {
     "name": "stdout",
     "output_type": "stream",
     "text": [
      "Dias desde o primeiro óbito, em 26 de março de 2020: 845\n",
      "Total de óbitos por Covid-19 em crianças de 00 a 04 anos no CE: 151\n",
      "Assim, foram 0.182 óbitos por dia ou 1.2 óbito por semana\n"
     ]
    }
   ],
   "source": [
    "print(f'Dias desde o primeiro óbito, em 26 de março de 2020: {primeiro_obito.shape[0]}')\n",
    "print('Total de óbitos por Covid-19 em crianças de 00 a 04 anos no CE:', total_de_obitos)\n",
    "print('Assim, foram', round(obitos_00_04['quantidade'].sum()/ 830,3), 'óbitos por dia ou', round(total_de_obitos/semanas,1), 'óbito por semana')"
   ]
  },
  {
   "cell_type": "markdown",
   "metadata": {
    "id": "btdquwXuLjoy"
   },
   "source": [
    "> **Como os óbitos de crianças de 0 a 4 anos comportaram-se por ano, considerando o período total de 2020 a 2022? E comparando o intervalo de 1º de janeiro a 18 de julho para os três anos?** <a name=\"comportamento\"></a>\n",
    "\n"
   ]
  },
  {
   "cell_type": "code",
   "execution_count": 74,
   "metadata": {
    "colab": {
     "base_uri": "https://localhost:8080/",
     "height": 206
    },
    "id": "08yBC5PlLuFU",
    "outputId": "d5b7f601-0ef0-4cd9-bfca-988e0e7f8428"
   },
   "outputs": [
    {
     "data": {
      "text/html": [
       "<div>\n",
       "<style scoped>\n",
       "    .dataframe tbody tr th:only-of-type {\n",
       "        vertical-align: middle;\n",
       "    }\n",
       "\n",
       "    .dataframe tbody tr th {\n",
       "        vertical-align: top;\n",
       "    }\n",
       "\n",
       "    .dataframe thead th {\n",
       "        text-align: right;\n",
       "    }\n",
       "</style>\n",
       "<table border=\"1\" class=\"dataframe\">\n",
       "  <thead>\n",
       "    <tr style=\"text-align: right;\">\n",
       "      <th></th>\n",
       "      <th>data</th>\n",
       "      <th>faixaEtaria</th>\n",
       "      <th>quantidade</th>\n",
       "      <th>mes/ano</th>\n",
       "      <th>ano</th>\n",
       "      <th>acumulado</th>\n",
       "      <th>date</th>\n",
       "      <th>ano_semana</th>\n",
       "    </tr>\n",
       "  </thead>\n",
       "  <tbody>\n",
       "    <tr>\n",
       "      <th>0</th>\n",
       "      <td>2020-01-01</td>\n",
       "      <td>00-02</td>\n",
       "      <td>0.0</td>\n",
       "      <td>2020-01</td>\n",
       "      <td>2020</td>\n",
       "      <td>0.0</td>\n",
       "      <td>2020-01-01</td>\n",
       "      <td>2020-00</td>\n",
       "    </tr>\n",
       "    <tr>\n",
       "      <th>931</th>\n",
       "      <td>2020-01-01</td>\n",
       "      <td>03-04</td>\n",
       "      <td>0.0</td>\n",
       "      <td>2020-01</td>\n",
       "      <td>2020</td>\n",
       "      <td>0.0</td>\n",
       "      <td>2020-01-01</td>\n",
       "      <td>2020-00</td>\n",
       "    </tr>\n",
       "    <tr>\n",
       "      <th>1</th>\n",
       "      <td>2020-01-02</td>\n",
       "      <td>00-02</td>\n",
       "      <td>0.0</td>\n",
       "      <td>2020-01</td>\n",
       "      <td>2020</td>\n",
       "      <td>0.0</td>\n",
       "      <td>2020-01-02</td>\n",
       "      <td>2020-00</td>\n",
       "    </tr>\n",
       "    <tr>\n",
       "      <th>932</th>\n",
       "      <td>2020-01-02</td>\n",
       "      <td>03-04</td>\n",
       "      <td>0.0</td>\n",
       "      <td>2020-01</td>\n",
       "      <td>2020</td>\n",
       "      <td>0.0</td>\n",
       "      <td>2020-01-02</td>\n",
       "      <td>2020-00</td>\n",
       "    </tr>\n",
       "    <tr>\n",
       "      <th>2</th>\n",
       "      <td>2020-01-03</td>\n",
       "      <td>00-02</td>\n",
       "      <td>0.0</td>\n",
       "      <td>2020-01</td>\n",
       "      <td>2020</td>\n",
       "      <td>0.0</td>\n",
       "      <td>2020-01-03</td>\n",
       "      <td>2020-00</td>\n",
       "    </tr>\n",
       "  </tbody>\n",
       "</table>\n",
       "</div>"
      ],
      "text/plain": [
       "           data faixaEtaria  quantidade  mes/ano   ano  acumulado       date  \\\n",
       "0    2020-01-01       00-02         0.0  2020-01  2020        0.0 2020-01-01   \n",
       "931  2020-01-01       03-04         0.0  2020-01  2020        0.0 2020-01-01   \n",
       "1    2020-01-02       00-02         0.0  2020-01  2020        0.0 2020-01-02   \n",
       "932  2020-01-02       03-04         0.0  2020-01  2020        0.0 2020-01-02   \n",
       "2    2020-01-03       00-02         0.0  2020-01  2020        0.0 2020-01-03   \n",
       "\n",
       "    ano_semana  \n",
       "0      2020-00  \n",
       "931    2020-00  \n",
       "1      2020-00  \n",
       "932    2020-00  \n",
       "2      2020-00  "
      ]
     },
     "execution_count": 74,
     "metadata": {},
     "output_type": "execute_result"
    }
   ],
   "source": [
    "obitos_00_04.head()"
   ]
  },
  {
   "cell_type": "code",
   "execution_count": 75,
   "metadata": {
    "colab": {
     "base_uri": "https://localhost:8080/",
     "height": 237
    },
    "id": "LTwfXd3qL-xA",
    "outputId": "9759a99c-cce9-4206-81c2-7e52f0822973"
   },
   "outputs": [
    {
     "data": {
      "text/html": [
       "<div>\n",
       "<style scoped>\n",
       "    .dataframe tbody tr th:only-of-type {\n",
       "        vertical-align: middle;\n",
       "    }\n",
       "\n",
       "    .dataframe tbody tr th {\n",
       "        vertical-align: top;\n",
       "    }\n",
       "\n",
       "    .dataframe thead th {\n",
       "        text-align: right;\n",
       "    }\n",
       "</style>\n",
       "<table border=\"1\" class=\"dataframe\">\n",
       "  <thead>\n",
       "    <tr style=\"text-align: right;\">\n",
       "      <th></th>\n",
       "      <th>ano</th>\n",
       "      <th>faixaEtaria</th>\n",
       "      <th>quantidade</th>\n",
       "      <th>periodo</th>\n",
       "    </tr>\n",
       "  </thead>\n",
       "  <tbody>\n",
       "    <tr>\n",
       "      <th>0</th>\n",
       "      <td>2020</td>\n",
       "      <td>00-02</td>\n",
       "      <td>28.0</td>\n",
       "      <td>Total</td>\n",
       "    </tr>\n",
       "    <tr>\n",
       "      <th>1</th>\n",
       "      <td>2020</td>\n",
       "      <td>03-04</td>\n",
       "      <td>2.0</td>\n",
       "      <td>Total</td>\n",
       "    </tr>\n",
       "    <tr>\n",
       "      <th>2</th>\n",
       "      <td>2021</td>\n",
       "      <td>00-02</td>\n",
       "      <td>80.0</td>\n",
       "      <td>Total</td>\n",
       "    </tr>\n",
       "    <tr>\n",
       "      <th>3</th>\n",
       "      <td>2021</td>\n",
       "      <td>03-04</td>\n",
       "      <td>9.0</td>\n",
       "      <td>Total</td>\n",
       "    </tr>\n",
       "    <tr>\n",
       "      <th>4</th>\n",
       "      <td>2022</td>\n",
       "      <td>00-02</td>\n",
       "      <td>30.0</td>\n",
       "      <td>Total</td>\n",
       "    </tr>\n",
       "    <tr>\n",
       "      <th>5</th>\n",
       "      <td>2022</td>\n",
       "      <td>03-04</td>\n",
       "      <td>2.0</td>\n",
       "      <td>Total</td>\n",
       "    </tr>\n",
       "  </tbody>\n",
       "</table>\n",
       "</div>"
      ],
      "text/plain": [
       "    ano faixaEtaria  quantidade periodo\n",
       "0  2020       00-02        28.0   Total\n",
       "1  2020       03-04         2.0   Total\n",
       "2  2021       00-02        80.0   Total\n",
       "3  2021       03-04         9.0   Total\n",
       "4  2022       00-02        30.0   Total\n",
       "5  2022       03-04         2.0   Total"
      ]
     },
     "execution_count": 75,
     "metadata": {},
     "output_type": "execute_result"
    }
   ],
   "source": [
    "# considerando todos os meses de todos os anos\n",
    "\n",
    "obitos_00_04_total = obitos_00_04[['ano', 'faixaEtaria', 'quantidade']].groupby(by=['ano', 'faixaEtaria']).sum().reset_index()\n",
    "obitos_00_04_total['periodo'] = 'Total'\n",
    "obitos_00_04_total"
   ]
  },
  {
   "cell_type": "code",
   "execution_count": 76,
   "metadata": {
    "id": "3rBStYgHMRxc"
   },
   "outputs": [],
   "source": [
    "# criando filtros de datas\n",
    "\n",
    "jan_18_jul_2020 = (obitos_00_04['date'] >= '2020-01-01') & (obitos_00_04['date'] <= '2020-07-18')\n",
    "jan_18_jul_2021 = (obitos_00_04['date'] >= '2021-01-01') & (obitos_00_04['date'] <= '2021-07-18')\n",
    "jan_18_jul_2022 = (obitos_00_04['date'] >= '2022-01-01') & (obitos_00_04['date'] <= '2022-07-18')\n",
    "\n",
    "obitos_00_04_mesmo_periodo = obitos_00_04[jan_18_jul_2020 | jan_18_jul_2021 | jan_18_jul_2022]"
   ]
  },
  {
   "cell_type": "code",
   "execution_count": 77,
   "metadata": {
    "colab": {
     "base_uri": "https://localhost:8080/",
     "height": 237
    },
    "id": "32S_mAiDMY9j",
    "outputId": "9b7f0643-173f-4181-c1d6-50d87ae5fbb3"
   },
   "outputs": [
    {
     "data": {
      "text/html": [
       "<div>\n",
       "<style scoped>\n",
       "    .dataframe tbody tr th:only-of-type {\n",
       "        vertical-align: middle;\n",
       "    }\n",
       "\n",
       "    .dataframe tbody tr th {\n",
       "        vertical-align: top;\n",
       "    }\n",
       "\n",
       "    .dataframe thead th {\n",
       "        text-align: right;\n",
       "    }\n",
       "</style>\n",
       "<table border=\"1\" class=\"dataframe\">\n",
       "  <thead>\n",
       "    <tr style=\"text-align: right;\">\n",
       "      <th></th>\n",
       "      <th>ano</th>\n",
       "      <th>faixaEtaria</th>\n",
       "      <th>quantidade</th>\n",
       "      <th>periodo</th>\n",
       "    </tr>\n",
       "  </thead>\n",
       "  <tbody>\n",
       "    <tr>\n",
       "      <th>0</th>\n",
       "      <td>2020</td>\n",
       "      <td>00-02</td>\n",
       "      <td>20.0</td>\n",
       "      <td>1º/jan a 18/jul</td>\n",
       "    </tr>\n",
       "    <tr>\n",
       "      <th>1</th>\n",
       "      <td>2020</td>\n",
       "      <td>03-04</td>\n",
       "      <td>2.0</td>\n",
       "      <td>1º/jan a 18/jul</td>\n",
       "    </tr>\n",
       "    <tr>\n",
       "      <th>2</th>\n",
       "      <td>2021</td>\n",
       "      <td>00-02</td>\n",
       "      <td>74.0</td>\n",
       "      <td>1º/jan a 18/jul</td>\n",
       "    </tr>\n",
       "    <tr>\n",
       "      <th>3</th>\n",
       "      <td>2021</td>\n",
       "      <td>03-04</td>\n",
       "      <td>8.0</td>\n",
       "      <td>1º/jan a 18/jul</td>\n",
       "    </tr>\n",
       "    <tr>\n",
       "      <th>4</th>\n",
       "      <td>2022</td>\n",
       "      <td>00-02</td>\n",
       "      <td>30.0</td>\n",
       "      <td>1º/jan a 18/jul</td>\n",
       "    </tr>\n",
       "    <tr>\n",
       "      <th>5</th>\n",
       "      <td>2022</td>\n",
       "      <td>03-04</td>\n",
       "      <td>2.0</td>\n",
       "      <td>1º/jan a 18/jul</td>\n",
       "    </tr>\n",
       "  </tbody>\n",
       "</table>\n",
       "</div>"
      ],
      "text/plain": [
       "    ano faixaEtaria  quantidade          periodo\n",
       "0  2020       00-02        20.0  1º/jan a 18/jul\n",
       "1  2020       03-04         2.0  1º/jan a 18/jul\n",
       "2  2021       00-02        74.0  1º/jan a 18/jul\n",
       "3  2021       03-04         8.0  1º/jan a 18/jul\n",
       "4  2022       00-02        30.0  1º/jan a 18/jul\n",
       "5  2022       03-04         2.0  1º/jan a 18/jul"
      ]
     },
     "execution_count": 77,
     "metadata": {},
     "output_type": "execute_result"
    }
   ],
   "source": [
    "# considerando o período de 1º de janeiro a 18 de julho de cada ano\n",
    "\n",
    "obitos_00_04_mesmo_periodo = obitos_00_04_mesmo_periodo[['ano', 'faixaEtaria', 'quantidade']].groupby(by=['ano', 'faixaEtaria']).sum().reset_index()\n",
    "obitos_00_04_mesmo_periodo['periodo'] = '1º/jan a 18/jul'\n",
    "obitos_00_04_mesmo_periodo"
   ]
  },
  {
   "cell_type": "code",
   "execution_count": 78,
   "metadata": {
    "colab": {
     "base_uri": "https://localhost:8080/",
     "height": 425
    },
    "id": "ngt3wtk_O441",
    "outputId": "4d6bde0f-8804-410a-ab74-b5bf098deb25"
   },
   "outputs": [
    {
     "data": {
      "text/html": [
       "<div>\n",
       "<style scoped>\n",
       "    .dataframe tbody tr th:only-of-type {\n",
       "        vertical-align: middle;\n",
       "    }\n",
       "\n",
       "    .dataframe tbody tr th {\n",
       "        vertical-align: top;\n",
       "    }\n",
       "\n",
       "    .dataframe thead th {\n",
       "        text-align: right;\n",
       "    }\n",
       "</style>\n",
       "<table border=\"1\" class=\"dataframe\">\n",
       "  <thead>\n",
       "    <tr style=\"text-align: right;\">\n",
       "      <th></th>\n",
       "      <th>ano</th>\n",
       "      <th>faixaEtaria</th>\n",
       "      <th>quantidade</th>\n",
       "      <th>periodo</th>\n",
       "    </tr>\n",
       "  </thead>\n",
       "  <tbody>\n",
       "    <tr>\n",
       "      <th>0</th>\n",
       "      <td>2020</td>\n",
       "      <td>00-02</td>\n",
       "      <td>28.0</td>\n",
       "      <td>Total</td>\n",
       "    </tr>\n",
       "    <tr>\n",
       "      <th>1</th>\n",
       "      <td>2020</td>\n",
       "      <td>03-04</td>\n",
       "      <td>2.0</td>\n",
       "      <td>Total</td>\n",
       "    </tr>\n",
       "    <tr>\n",
       "      <th>2</th>\n",
       "      <td>2021</td>\n",
       "      <td>00-02</td>\n",
       "      <td>80.0</td>\n",
       "      <td>Total</td>\n",
       "    </tr>\n",
       "    <tr>\n",
       "      <th>3</th>\n",
       "      <td>2021</td>\n",
       "      <td>03-04</td>\n",
       "      <td>9.0</td>\n",
       "      <td>Total</td>\n",
       "    </tr>\n",
       "    <tr>\n",
       "      <th>4</th>\n",
       "      <td>2022</td>\n",
       "      <td>00-02</td>\n",
       "      <td>30.0</td>\n",
       "      <td>Total</td>\n",
       "    </tr>\n",
       "    <tr>\n",
       "      <th>5</th>\n",
       "      <td>2022</td>\n",
       "      <td>03-04</td>\n",
       "      <td>2.0</td>\n",
       "      <td>Total</td>\n",
       "    </tr>\n",
       "    <tr>\n",
       "      <th>0</th>\n",
       "      <td>2020</td>\n",
       "      <td>00-02</td>\n",
       "      <td>20.0</td>\n",
       "      <td>1º/jan a 18/jul</td>\n",
       "    </tr>\n",
       "    <tr>\n",
       "      <th>1</th>\n",
       "      <td>2020</td>\n",
       "      <td>03-04</td>\n",
       "      <td>2.0</td>\n",
       "      <td>1º/jan a 18/jul</td>\n",
       "    </tr>\n",
       "    <tr>\n",
       "      <th>2</th>\n",
       "      <td>2021</td>\n",
       "      <td>00-02</td>\n",
       "      <td>74.0</td>\n",
       "      <td>1º/jan a 18/jul</td>\n",
       "    </tr>\n",
       "    <tr>\n",
       "      <th>3</th>\n",
       "      <td>2021</td>\n",
       "      <td>03-04</td>\n",
       "      <td>8.0</td>\n",
       "      <td>1º/jan a 18/jul</td>\n",
       "    </tr>\n",
       "    <tr>\n",
       "      <th>4</th>\n",
       "      <td>2022</td>\n",
       "      <td>00-02</td>\n",
       "      <td>30.0</td>\n",
       "      <td>1º/jan a 18/jul</td>\n",
       "    </tr>\n",
       "    <tr>\n",
       "      <th>5</th>\n",
       "      <td>2022</td>\n",
       "      <td>03-04</td>\n",
       "      <td>2.0</td>\n",
       "      <td>1º/jan a 18/jul</td>\n",
       "    </tr>\n",
       "  </tbody>\n",
       "</table>\n",
       "</div>"
      ],
      "text/plain": [
       "    ano faixaEtaria  quantidade          periodo\n",
       "0  2020       00-02        28.0            Total\n",
       "1  2020       03-04         2.0            Total\n",
       "2  2021       00-02        80.0            Total\n",
       "3  2021       03-04         9.0            Total\n",
       "4  2022       00-02        30.0            Total\n",
       "5  2022       03-04         2.0            Total\n",
       "0  2020       00-02        20.0  1º/jan a 18/jul\n",
       "1  2020       03-04         2.0  1º/jan a 18/jul\n",
       "2  2021       00-02        74.0  1º/jan a 18/jul\n",
       "3  2021       03-04         8.0  1º/jan a 18/jul\n",
       "4  2022       00-02        30.0  1º/jan a 18/jul\n",
       "5  2022       03-04         2.0  1º/jan a 18/jul"
      ]
     },
     "execution_count": 78,
     "metadata": {},
     "output_type": "execute_result"
    }
   ],
   "source": [
    "# concatenar\n",
    "\n",
    "df_obitos_00_04_comp_anos = pd.concat([obitos_00_04_total, obitos_00_04_mesmo_periodo])\n",
    "df_obitos_00_04_comp_anos"
   ]
  },
  {
   "cell_type": "code",
   "execution_count": 80,
   "metadata": {
    "id": "4TB4lJEXPdzc"
   },
   "outputs": [],
   "source": [
    "df_obitos_00_04_comp_anos.to_csv('arquivos_gerados/20220718_df_obitos_00_04_comp_anos.csv', index=False)"
   ]
  },
  {
   "cell_type": "markdown",
   "metadata": {
    "id": "gLRlvcwnn2po"
   },
   "source": [
    "> **O que cada faixa etária (0 a 2 / 3 a 4) representou, percentualmente, no total de óbitos por Covid-19 entre essas crianças?** <a name=\"percentual\"></a>\n",
    "\n"
   ]
  },
  {
   "cell_type": "code",
   "execution_count": 81,
   "metadata": {
    "colab": {
     "base_uri": "https://localhost:8080/",
     "height": 112
    },
    "id": "d_kjG55Vn78n",
    "outputId": "c206ca63-77db-4ae4-ac57-f2b7ef9b385a"
   },
   "outputs": [
    {
     "data": {
      "text/html": [
       "<div>\n",
       "<style scoped>\n",
       "    .dataframe tbody tr th:only-of-type {\n",
       "        vertical-align: middle;\n",
       "    }\n",
       "\n",
       "    .dataframe tbody tr th {\n",
       "        vertical-align: top;\n",
       "    }\n",
       "\n",
       "    .dataframe thead th {\n",
       "        text-align: right;\n",
       "    }\n",
       "</style>\n",
       "<table border=\"1\" class=\"dataframe\">\n",
       "  <thead>\n",
       "    <tr style=\"text-align: right;\">\n",
       "      <th></th>\n",
       "      <th>faixaEtaria</th>\n",
       "      <th>quantidade</th>\n",
       "      <th>percentual</th>\n",
       "    </tr>\n",
       "  </thead>\n",
       "  <tbody>\n",
       "    <tr>\n",
       "      <th>0</th>\n",
       "      <td>00-02</td>\n",
       "      <td>138.0</td>\n",
       "      <td>91.4</td>\n",
       "    </tr>\n",
       "    <tr>\n",
       "      <th>1</th>\n",
       "      <td>03-04</td>\n",
       "      <td>13.0</td>\n",
       "      <td>8.6</td>\n",
       "    </tr>\n",
       "  </tbody>\n",
       "</table>\n",
       "</div>"
      ],
      "text/plain": [
       "  faixaEtaria  quantidade  percentual\n",
       "0       00-02       138.0        91.4\n",
       "1       03-04        13.0         8.6"
      ]
     },
     "execution_count": 81,
     "metadata": {},
     "output_type": "execute_result"
    }
   ],
   "source": [
    "# total\n",
    "\n",
    "pivot_table_idade = pd.pivot_table(obitos_00_04_total, values='quantidade', index='faixaEtaria', aggfunc='sum').reset_index()\n",
    "pivot_table_idade['percentual'] = round(pivot_table_idade['quantidade']/pivot_table_idade['quantidade'].sum()*100,1)\n",
    "pivot_table_idade"
   ]
  },
  {
   "cell_type": "code",
   "execution_count": 82,
   "metadata": {
    "id": "qXjH54LLpwQK"
   },
   "outputs": [],
   "source": [
    "# por ano\n",
    "pivot_table_idade_ano = pd.pivot_table(obitos_00_04_total, values='quantidade', index=['faixaEtaria', 'ano'], aggfunc='sum').reset_index()\n",
    "pivot_table_idade_2020 = pivot_table_idade_ano[pivot_table_idade_ano['ano'] == '2020']\n",
    "pivot_table_idade_2021 = pivot_table_idade_ano[pivot_table_idade_ano['ano'] == '2021']\n",
    "pivot_table_idade_2022 = pivot_table_idade_ano[pivot_table_idade_ano['ano'] == '2022']"
   ]
  },
  {
   "cell_type": "code",
   "execution_count": 83,
   "metadata": {
    "colab": {
     "base_uri": "https://localhost:8080/",
     "height": 223
    },
    "id": "TLBd_qLOp33I",
    "outputId": "c8740f0a-86f4-47c1-8104-63d36c2a9289"
   },
   "outputs": [
    {
     "name": "stderr",
     "output_type": "stream",
     "text": [
      "C:\\Users\\55859\\AppData\\Local\\Temp/ipykernel_3680/2196499669.py:2: SettingWithCopyWarning: \n",
      "A value is trying to be set on a copy of a slice from a DataFrame.\n",
      "Try using .loc[row_indexer,col_indexer] = value instead\n",
      "\n",
      "See the caveats in the documentation: https://pandas.pydata.org/pandas-docs/stable/user_guide/indexing.html#returning-a-view-versus-a-copy\n",
      "  pivot_table_idade_2020['percentual'] = round(pivot_table_idade_2020['quantidade']/pivot_table_idade_2020['quantidade'].sum()*100,1)\n"
     ]
    },
    {
     "data": {
      "text/html": [
       "<div>\n",
       "<style scoped>\n",
       "    .dataframe tbody tr th:only-of-type {\n",
       "        vertical-align: middle;\n",
       "    }\n",
       "\n",
       "    .dataframe tbody tr th {\n",
       "        vertical-align: top;\n",
       "    }\n",
       "\n",
       "    .dataframe thead th {\n",
       "        text-align: right;\n",
       "    }\n",
       "</style>\n",
       "<table border=\"1\" class=\"dataframe\">\n",
       "  <thead>\n",
       "    <tr style=\"text-align: right;\">\n",
       "      <th></th>\n",
       "      <th>faixaEtaria</th>\n",
       "      <th>ano</th>\n",
       "      <th>quantidade</th>\n",
       "      <th>percentual</th>\n",
       "    </tr>\n",
       "  </thead>\n",
       "  <tbody>\n",
       "    <tr>\n",
       "      <th>0</th>\n",
       "      <td>00-02</td>\n",
       "      <td>2020</td>\n",
       "      <td>28.0</td>\n",
       "      <td>93.3</td>\n",
       "    </tr>\n",
       "    <tr>\n",
       "      <th>3</th>\n",
       "      <td>03-04</td>\n",
       "      <td>2020</td>\n",
       "      <td>2.0</td>\n",
       "      <td>6.7</td>\n",
       "    </tr>\n",
       "  </tbody>\n",
       "</table>\n",
       "</div>"
      ],
      "text/plain": [
       "  faixaEtaria   ano  quantidade  percentual\n",
       "0       00-02  2020        28.0        93.3\n",
       "3       03-04  2020         2.0         6.7"
      ]
     },
     "execution_count": 83,
     "metadata": {},
     "output_type": "execute_result"
    }
   ],
   "source": [
    "# percentual em 2020\n",
    "pivot_table_idade_2020['percentual'] = round(pivot_table_idade_2020['quantidade']/pivot_table_idade_2020['quantidade'].sum()*100,1)\n",
    "pivot_table_idade_2020"
   ]
  },
  {
   "cell_type": "code",
   "execution_count": 84,
   "metadata": {
    "colab": {
     "base_uri": "https://localhost:8080/",
     "height": 223
    },
    "id": "iaJdt8vbqPu_",
    "outputId": "aec10f3f-8930-4c0a-f2fb-f3240a2e76c0"
   },
   "outputs": [
    {
     "name": "stderr",
     "output_type": "stream",
     "text": [
      "C:\\Users\\55859\\AppData\\Local\\Temp/ipykernel_3680/1162991621.py:2: SettingWithCopyWarning: \n",
      "A value is trying to be set on a copy of a slice from a DataFrame.\n",
      "Try using .loc[row_indexer,col_indexer] = value instead\n",
      "\n",
      "See the caveats in the documentation: https://pandas.pydata.org/pandas-docs/stable/user_guide/indexing.html#returning-a-view-versus-a-copy\n",
      "  pivot_table_idade_2021['percentual'] = round(pivot_table_idade_2021['quantidade']/pivot_table_idade_2021['quantidade'].sum()*100,1)\n"
     ]
    },
    {
     "data": {
      "text/html": [
       "<div>\n",
       "<style scoped>\n",
       "    .dataframe tbody tr th:only-of-type {\n",
       "        vertical-align: middle;\n",
       "    }\n",
       "\n",
       "    .dataframe tbody tr th {\n",
       "        vertical-align: top;\n",
       "    }\n",
       "\n",
       "    .dataframe thead th {\n",
       "        text-align: right;\n",
       "    }\n",
       "</style>\n",
       "<table border=\"1\" class=\"dataframe\">\n",
       "  <thead>\n",
       "    <tr style=\"text-align: right;\">\n",
       "      <th></th>\n",
       "      <th>faixaEtaria</th>\n",
       "      <th>ano</th>\n",
       "      <th>quantidade</th>\n",
       "      <th>percentual</th>\n",
       "    </tr>\n",
       "  </thead>\n",
       "  <tbody>\n",
       "    <tr>\n",
       "      <th>1</th>\n",
       "      <td>00-02</td>\n",
       "      <td>2021</td>\n",
       "      <td>80.0</td>\n",
       "      <td>89.9</td>\n",
       "    </tr>\n",
       "    <tr>\n",
       "      <th>4</th>\n",
       "      <td>03-04</td>\n",
       "      <td>2021</td>\n",
       "      <td>9.0</td>\n",
       "      <td>10.1</td>\n",
       "    </tr>\n",
       "  </tbody>\n",
       "</table>\n",
       "</div>"
      ],
      "text/plain": [
       "  faixaEtaria   ano  quantidade  percentual\n",
       "1       00-02  2021        80.0        89.9\n",
       "4       03-04  2021         9.0        10.1"
      ]
     },
     "execution_count": 84,
     "metadata": {},
     "output_type": "execute_result"
    }
   ],
   "source": [
    "# percentual em 2021\n",
    "pivot_table_idade_2021['percentual'] = round(pivot_table_idade_2021['quantidade']/pivot_table_idade_2021['quantidade'].sum()*100,1)\n",
    "pivot_table_idade_2021"
   ]
  },
  {
   "cell_type": "code",
   "execution_count": 85,
   "metadata": {
    "colab": {
     "base_uri": "https://localhost:8080/",
     "height": 223
    },
    "id": "tgIS6cicqGyE",
    "outputId": "fa3b3a48-2338-4c83-dd2f-7a8e278bcf8e"
   },
   "outputs": [
    {
     "name": "stderr",
     "output_type": "stream",
     "text": [
      "C:\\Users\\55859\\AppData\\Local\\Temp/ipykernel_3680/3267752968.py:2: SettingWithCopyWarning: \n",
      "A value is trying to be set on a copy of a slice from a DataFrame.\n",
      "Try using .loc[row_indexer,col_indexer] = value instead\n",
      "\n",
      "See the caveats in the documentation: https://pandas.pydata.org/pandas-docs/stable/user_guide/indexing.html#returning-a-view-versus-a-copy\n",
      "  pivot_table_idade_2022['percentual'] = round(pivot_table_idade_2022['quantidade']/pivot_table_idade_2022['quantidade'].sum()*100,1)\n"
     ]
    },
    {
     "data": {
      "text/html": [
       "<div>\n",
       "<style scoped>\n",
       "    .dataframe tbody tr th:only-of-type {\n",
       "        vertical-align: middle;\n",
       "    }\n",
       "\n",
       "    .dataframe tbody tr th {\n",
       "        vertical-align: top;\n",
       "    }\n",
       "\n",
       "    .dataframe thead th {\n",
       "        text-align: right;\n",
       "    }\n",
       "</style>\n",
       "<table border=\"1\" class=\"dataframe\">\n",
       "  <thead>\n",
       "    <tr style=\"text-align: right;\">\n",
       "      <th></th>\n",
       "      <th>faixaEtaria</th>\n",
       "      <th>ano</th>\n",
       "      <th>quantidade</th>\n",
       "      <th>percentual</th>\n",
       "    </tr>\n",
       "  </thead>\n",
       "  <tbody>\n",
       "    <tr>\n",
       "      <th>2</th>\n",
       "      <td>00-02</td>\n",
       "      <td>2022</td>\n",
       "      <td>30.0</td>\n",
       "      <td>93.8</td>\n",
       "    </tr>\n",
       "    <tr>\n",
       "      <th>5</th>\n",
       "      <td>03-04</td>\n",
       "      <td>2022</td>\n",
       "      <td>2.0</td>\n",
       "      <td>6.2</td>\n",
       "    </tr>\n",
       "  </tbody>\n",
       "</table>\n",
       "</div>"
      ],
      "text/plain": [
       "  faixaEtaria   ano  quantidade  percentual\n",
       "2       00-02  2022        30.0        93.8\n",
       "5       03-04  2022         2.0         6.2"
      ]
     },
     "execution_count": 85,
     "metadata": {},
     "output_type": "execute_result"
    }
   ],
   "source": [
    "# percentual até 18 de julho de 2022\n",
    "pivot_table_idade_2022['percentual'] = round(pivot_table_idade_2022['quantidade']/pivot_table_idade_2022['quantidade'].sum()*100,1)\n",
    "pivot_table_idade_2022"
   ]
  }
 ],
 "metadata": {
  "colab": {
   "collapsed_sections": [
    "-p5nBjFHlFcN"
   ],
   "name": "Covid-19: óbitos em crianças de 00 a 04 anos no Ceará - 18/07/2022.ipynb",
   "provenance": []
  },
  "kernelspec": {
   "display_name": "Python 3 (ipykernel)",
   "language": "python",
   "name": "python3"
  },
  "language_info": {
   "codemirror_mode": {
    "name": "ipython",
    "version": 3
   },
   "file_extension": ".py",
   "mimetype": "text/x-python",
   "name": "python",
   "nbconvert_exporter": "python",
   "pygments_lexer": "ipython3",
   "version": "3.9.7"
  }
 },
 "nbformat": 4,
 "nbformat_minor": 1
}
